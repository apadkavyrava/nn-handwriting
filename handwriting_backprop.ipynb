{
  "nbformat": 4,
  "nbformat_minor": 0,
  "metadata": {
    "colab": {
      "name": "handwriting-backprop.ipynb",
      "version": "0.3.2",
      "provenance": []
    },
    "kernelspec": {
      "name": "python3",
      "display_name": "Python 3"
    }
  },
  "cells": [
    {
      "metadata": {
        "id": "X2Zm85cS7ZqY",
        "colab_type": "code",
        "outputId": "c254aa4f-20a7-4bc5-a0bc-fc3b087a87d7",
        "colab": {
          "base_uri": "https://localhost:8080/",
          "height": 34
        }
      },
      "cell_type": "code",
      "source": [
        "import numpy as np\n",
        "import scipy.io as sio\n",
        "import matplotlib.pyplot as plt\n",
        "from matplotlib.pyplot import figure\n",
        "\n",
        "data_feat = sio.loadmat('nn-data.mat')\n",
        "data = sio.loadmat('nn-weights.mat')\n",
        "\n",
        "m = 5000\n",
        "lamb = 1\n",
        "\n",
        "X = np.matrix(data_feat['X'])\n",
        "y = np.matrix(data_feat['y'])\n",
        "n = 25\n",
        "outputs = 10\n",
        "\n",
        "#optional zeros in initial thetas\n",
        "#theta1 = np.zeros((n,X.shape[1]+1))\n",
        "#theta2 = np.zeros((outputs,n+1))\n",
        "\n",
        "theta1 = np.matrix(data['Theta1'])\n",
        "theta2 = np.matrix(data['Theta2'])\n",
        "\n",
        "epsi = 0.12;\n",
        "\n",
        "# optional randomisation\n",
        "#theta1 = np.random.rand(n,X.shape[1]+1) * 2 * epsi - epsi\n",
        "#theta2 = np.random.rand(outputs,n+1) * 2 * epsi - epsi\n",
        "\n",
        "def sigmoid (z):\n",
        "  return 1 / (1 +np.exp(- z))\n",
        "\n",
        "Cap_delta1=np.zeros((10,26))\n",
        "Cap_delta2 = np.zeros((26,400))\n",
        "\n",
        "cost = 0\n",
        "\n",
        "# forward propagation\n",
        "for i in range(1, 5000):\n",
        "\n",
        "  X_ones = np.insert(X[i], 0, values = 1, axis = 1)\n",
        "\n",
        "  a = sigmoid(X_ones * theta1.T)\n",
        "\n",
        "  a_ones = np.insert(a, 0, values = 1, axis = 1)\n",
        "  h = sigmoid(a_ones * theta2.T)\n",
        "\n",
        "  \n",
        "  def vector_y (n):\n",
        "    vec_y = np.zeros(10)\n",
        "    vec_y[(n)%10] = 1\n",
        "    return vec_y\n",
        "  \n",
        "  zer_y= vector_y(y[i])\n",
        "  y_new = np.reshape(zer_y,(10,1))\n",
        "  \n",
        "  # cost function\n",
        "  \n",
        "  cost = cost - np.sum(y_new * np.log(h)\n",
        "                       + (1 - y_new) * np.log(1 - h))/m \n",
        "\n",
        "  # backpropagation\n",
        "  \n",
        "  delta1 = h - zer_y\n",
        "  \n",
        "\n",
        "  g_a_ones = np.multiply(a_ones, 1-a_ones)\n",
        "  delta2 = np.multiply((delta1 * theta2),g_a_ones)\n",
        "\n",
        "  \n",
        "  Cap_delta1 = Cap_delta1 + delta1.T  * a_ones\n",
        "  Cap_delta2 = Cap_delta2 + delta2.T * X[i]\n",
        "  \n",
        "\n",
        "cost_fin = cost - (np.sum(np.square(theta1[:,1:])) + np.sum(np.square(theta2[:,1:]))) * lamb / 2/ m \n",
        "  \n",
        "print('Final cost:', cost_fin)\n",
        "\n",
        "sub_delta21 = Cap_delta2[0,:]\n",
        "sub_delta22 = Cap_delta2[1:,:]\n",
        "\n",
        "di1 = 1/m * Cap_delta1 + lamb * theta2\n",
        "theta11 = theta1[:,1:]\n",
        "di21 = 1/m * sub_delta21\n",
        "di22 = 1/m * sub_delta22 + lamb * theta11\n"
      ],
      "execution_count": 3,
      "outputs": [
        {
          "output_type": "stream",
          "text": [
            "Final cost: 89.24802903128514\n"
          ],
          "name": "stdout"
        }
      ]
    }
  ]
}